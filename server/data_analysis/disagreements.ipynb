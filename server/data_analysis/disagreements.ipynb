{
 "cells": [
  {
   "cell_type": "code",
   "execution_count": 1,
   "metadata": {},
   "outputs": [],
   "source": [
    "import os\n",
    "import numpy as np\n",
    "import pandas as pd"
   ]
  },
  {
   "cell_type": "code",
   "execution_count": 2,
   "metadata": {},
   "outputs": [],
   "source": [
    "all_pair_df = pd.read_csv(\"../database/data_assignment/pair_information.csv\")[\n",
    "    [\"pair_id\", \"video1\", \"video2\", \"pair_feature\", \"dist\"]\n",
    "]\n",
    "all_pair_df[\"pair_id\"] = all_pair_df[\"pair_id\"].astype(int)"
   ]
  },
  {
   "cell_type": "code",
   "execution_count": 3,
   "metadata": {},
   "outputs": [],
   "source": [
    "def disagreements(mode) -> pd.DataFrame:\n",
    "    \"\"\"Score the labeled data by disagreement.\"\"\"\n",
    "    # group the labeled data by pair_id\n",
    "    all_user_pref_path = f\"../database/{mode}/all_user_pref.csv\"\n",
    "    if os.path.exists(all_user_pref_path):\n",
    "        all_user_pref = pd.read_csv(all_user_pref_path)\n",
    "        # map the pair_id to int\n",
    "        all_user_pref[\"pair_id\"] = all_user_pref[\"pair_id\"].astype(int)\n",
    "        # map the pref to float\n",
    "        all_user_pref[\"pref\"] = all_user_pref[\"pref\"].astype(float)\n",
    "    \n",
    "    # merge the rows with the same pair_id and the same user_id, while retaining other columns\n",
    "    all_user_pref = (\n",
    "        all_user_pref.groupby(\n",
    "            [\"pair_id\", \"video1\", \"video2\", \"user_id\", \"pair_feature\"]\n",
    "        )\n",
    "        .agg({\"pref\": \"mean\"})\n",
    "        .reset_index()\n",
    "    )\n",
    "    pair_id_group = all_user_pref.groupby(\"pair_id\")\n",
    "\n",
    "    # get the disagreement for each pair with the variance in the pref score\n",
    "    pair_disagreement = pair_id_group.apply(lambda x: x[\"pref\"].values.var())\n",
    "    all_pair_df[\"pair_disagreement_score\"] = all_pair_df[\"pair_id\"].apply(\n",
    "        lambda x: pair_disagreement[x] if x in pair_disagreement.index else np.inf\n",
    "    )\n",
    "\n",
    "    # group the labeled data by pair_id\n",
    "    pair_feature_group = all_user_pref.groupby(\"pair_feature\")\n",
    "    # get the cluster disagreement for each pair with the variance in the pref score\n",
    "    pair_cluster_disagreement = pair_feature_group.apply(\n",
    "        lambda x: x[\"pref\"].values.var()\n",
    "    )\n",
    "    all_pair_df[\"cluster_disagreement_score\"] = all_pair_df[\n",
    "        \"pair_feature\"\n",
    "    ].apply(\n",
    "        lambda x: pair_cluster_disagreement[x]\n",
    "        if x in pair_cluster_disagreement.index\n",
    "        else np.inf\n",
    "    )\n",
    "\n",
    "    return all_pair_df.copy()"
   ]
  },
  {
   "cell_type": "code",
   "execution_count": 4,
   "metadata": {},
   "outputs": [],
   "source": [
    "baseline_disagreement = disagreements(\"baseline\")\n",
    "experiment_disagreement = disagreements(\"experiment\")"
   ]
  },
  {
   "cell_type": "code",
   "execution_count": 5,
   "metadata": {},
   "outputs": [
    {
     "data": {
      "text/plain": [
       "(0.08349748563218393, 0.1201527132381496)"
      ]
     },
     "execution_count": 5,
     "metadata": {},
     "output_type": "execute_result"
    }
   ],
   "source": [
    "baseline_disagreement[\"pair_disagreement_score\"].mean(), baseline_disagreement[\"cluster_disagreement_score\"].mean()"
   ]
  },
  {
   "cell_type": "code",
   "execution_count": 6,
   "metadata": {},
   "outputs": [
    {
     "data": {
      "text/plain": [
       "(0.09171368135376758, 0.1409160740249854)"
      ]
     },
     "execution_count": 6,
     "metadata": {},
     "output_type": "execute_result"
    }
   ],
   "source": [
    "experiment_disagreement[\"pair_disagreement_score\"].mean(), experiment_disagreement[\"cluster_disagreement_score\"].mean()"
   ]
  },
  {
   "cell_type": "code",
   "execution_count": 7,
   "metadata": {},
   "outputs": [
    {
     "data": {
      "text/html": [
       "<div>\n",
       "<style scoped>\n",
       "    .dataframe tbody tr th:only-of-type {\n",
       "        vertical-align: middle;\n",
       "    }\n",
       "\n",
       "    .dataframe tbody tr th {\n",
       "        vertical-align: top;\n",
       "    }\n",
       "\n",
       "    .dataframe thead th {\n",
       "        text-align: right;\n",
       "    }\n",
       "</style>\n",
       "<table border=\"1\" class=\"dataframe\">\n",
       "  <thead>\n",
       "    <tr style=\"text-align: right;\">\n",
       "      <th></th>\n",
       "      <th>pair_disagreement_score</th>\n",
       "      <th>cluster_disagreement_score</th>\n",
       "    </tr>\n",
       "  </thead>\n",
       "  <tbody>\n",
       "    <tr>\n",
       "      <th>count</th>\n",
       "      <td>435.000000</td>\n",
       "      <td>435.000000</td>\n",
       "    </tr>\n",
       "    <tr>\n",
       "      <th>mean</th>\n",
       "      <td>0.083497</td>\n",
       "      <td>0.120153</td>\n",
       "    </tr>\n",
       "    <tr>\n",
       "      <th>std</th>\n",
       "      <td>0.086129</td>\n",
       "      <td>0.082036</td>\n",
       "    </tr>\n",
       "    <tr>\n",
       "      <th>min</th>\n",
       "      <td>0.000000</td>\n",
       "      <td>0.000000</td>\n",
       "    </tr>\n",
       "    <tr>\n",
       "      <th>25%</th>\n",
       "      <td>0.000000</td>\n",
       "      <td>0.013156</td>\n",
       "    </tr>\n",
       "    <tr>\n",
       "      <th>50%</th>\n",
       "      <td>0.040000</td>\n",
       "      <td>0.153452</td>\n",
       "    </tr>\n",
       "    <tr>\n",
       "      <th>75%</th>\n",
       "      <td>0.160000</td>\n",
       "      <td>0.205836</td>\n",
       "    </tr>\n",
       "    <tr>\n",
       "      <th>max</th>\n",
       "      <td>0.250000</td>\n",
       "      <td>0.215556</td>\n",
       "    </tr>\n",
       "  </tbody>\n",
       "</table>\n",
       "</div>"
      ],
      "text/plain": [
       "       pair_disagreement_score  cluster_disagreement_score\n",
       "count               435.000000                  435.000000\n",
       "mean                  0.083497                    0.120153\n",
       "std                   0.086129                    0.082036\n",
       "min                   0.000000                    0.000000\n",
       "25%                   0.000000                    0.013156\n",
       "50%                   0.040000                    0.153452\n",
       "75%                   0.160000                    0.205836\n",
       "max                   0.250000                    0.215556"
      ]
     },
     "execution_count": 7,
     "metadata": {},
     "output_type": "execute_result"
    }
   ],
   "source": [
    "baseline_disagreement[[\"pair_disagreement_score\", \"cluster_disagreement_score\"]].describe()"
   ]
  },
  {
   "cell_type": "code",
   "execution_count": 8,
   "metadata": {},
   "outputs": [
    {
     "data": {
      "text/html": [
       "<div>\n",
       "<style scoped>\n",
       "    .dataframe tbody tr th:only-of-type {\n",
       "        vertical-align: middle;\n",
       "    }\n",
       "\n",
       "    .dataframe tbody tr th {\n",
       "        vertical-align: top;\n",
       "    }\n",
       "\n",
       "    .dataframe thead th {\n",
       "        text-align: right;\n",
       "    }\n",
       "</style>\n",
       "<table border=\"1\" class=\"dataframe\">\n",
       "  <thead>\n",
       "    <tr style=\"text-align: right;\">\n",
       "      <th></th>\n",
       "      <th>pair_disagreement_score</th>\n",
       "      <th>cluster_disagreement_score</th>\n",
       "    </tr>\n",
       "  </thead>\n",
       "  <tbody>\n",
       "    <tr>\n",
       "      <th>count</th>\n",
       "      <td>435.000000</td>\n",
       "      <td>435.000000</td>\n",
       "    </tr>\n",
       "    <tr>\n",
       "      <th>mean</th>\n",
       "      <td>0.091714</td>\n",
       "      <td>0.140916</td>\n",
       "    </tr>\n",
       "    <tr>\n",
       "      <th>std</th>\n",
       "      <td>0.095481</td>\n",
       "      <td>0.085735</td>\n",
       "    </tr>\n",
       "    <tr>\n",
       "      <th>min</th>\n",
       "      <td>0.000000</td>\n",
       "      <td>0.006370</td>\n",
       "    </tr>\n",
       "    <tr>\n",
       "      <th>25%</th>\n",
       "      <td>0.000000</td>\n",
       "      <td>0.027901</td>\n",
       "    </tr>\n",
       "    <tr>\n",
       "      <th>50%</th>\n",
       "      <td>0.046875</td>\n",
       "      <td>0.187904</td>\n",
       "    </tr>\n",
       "    <tr>\n",
       "      <th>75%</th>\n",
       "      <td>0.187500</td>\n",
       "      <td>0.211241</td>\n",
       "    </tr>\n",
       "    <tr>\n",
       "      <th>max</th>\n",
       "      <td>0.250000</td>\n",
       "      <td>0.232862</td>\n",
       "    </tr>\n",
       "  </tbody>\n",
       "</table>\n",
       "</div>"
      ],
      "text/plain": [
       "       pair_disagreement_score  cluster_disagreement_score\n",
       "count               435.000000                  435.000000\n",
       "mean                  0.091714                    0.140916\n",
       "std                   0.095481                    0.085735\n",
       "min                   0.000000                    0.006370\n",
       "25%                   0.000000                    0.027901\n",
       "50%                   0.046875                    0.187904\n",
       "75%                   0.187500                    0.211241\n",
       "max                   0.250000                    0.232862"
      ]
     },
     "execution_count": 8,
     "metadata": {},
     "output_type": "execute_result"
    }
   ],
   "source": [
    "experiment_disagreement[[\"pair_disagreement_score\", \"cluster_disagreement_score\"]].describe()"
   ]
  },
  {
   "cell_type": "code",
   "execution_count": null,
   "metadata": {},
   "outputs": [],
   "source": []
  }
 ],
 "metadata": {
  "kernelspec": {
   "display_name": "robosuite",
   "language": "python",
   "name": "python3"
  },
  "language_info": {
   "codemirror_mode": {
    "name": "ipython",
    "version": 3
   },
   "file_extension": ".py",
   "mimetype": "text/x-python",
   "name": "python",
   "nbconvert_exporter": "python",
   "pygments_lexer": "ipython3",
   "version": "3.8.17"
  },
  "orig_nbformat": 4
 },
 "nbformat": 4,
 "nbformat_minor": 2
}
