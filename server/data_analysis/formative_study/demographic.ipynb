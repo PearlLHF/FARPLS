{
 "cells": [
  {
   "cell_type": "code",
   "execution_count": 1,
   "metadata": {},
   "outputs": [],
   "source": [
    "import numpy as np\n",
    "import pandas as pd"
   ]
  },
  {
   "cell_type": "code",
   "execution_count": 2,
   "metadata": {},
   "outputs": [],
   "source": [
    "demographic = pd.read_csv(\"demographic_origin.csv\")\n",
    "demographic_questions = demographic.loc[0, :]\n",
    "demographic_questions.to_json(\"demographic_questions.json\", indent=4)\n",
    "demographic = demographic.drop([0, 1]).sort_values(by=[\"ID\"]).reset_index(drop=True)\n",
    "\n",
    "demographic[\"Age\"] = demographic[\"Age\"].astype(int)\n",
    "gender_map = {\n",
    "    1: \"Male\",\n",
    "    2: \"Female\",\n",
    "    3: \"Non-binary / other\",\n",
    "}\n",
    "demographic[\"Gender\"] = demographic[\"Gender\"].astype(int).apply(gender_map.get)\n",
    "demographic[\"Data Labeling System\"] = demographic[\"Data Labeling System\"].astype(int)\n",
    "demographic[\"Robotics\"] = demographic[\"Robotics\"].astype(int)\n",
    "demographic = demographic[\n",
    "    [\n",
    "        \"ID\",\n",
    "        \"Age\",\n",
    "        \"Gender\",\n",
    "        \"Data Labeling System\",\n",
    "        \"Robotics\"\n",
    "    ]\n",
    "]\n",
    "demographic.to_csv(\"demographic.csv\", index=False)"
   ]
  },
  {
   "cell_type": "code",
   "execution_count": 3,
   "metadata": {},
   "outputs": [
    {
     "data": {
      "text/plain": [
       "(array(['Female', 'Male'], dtype=object), array([6, 6]))"
      ]
     },
     "execution_count": 3,
     "metadata": {},
     "output_type": "execute_result"
    }
   ],
   "source": [
    "np.unique(demographic[\"Gender\"].values, return_counts=True)"
   ]
  },
  {
   "cell_type": "code",
   "execution_count": 4,
   "metadata": {},
   "outputs": [],
   "source": [
    "def get_states(df, index_postfix=\"\"):\n",
    "    stats_df = df.describe().T\n",
    "    stats_df[\"question\"] = stats_df.index.map(lambda x: demographic_questions.get(x, x))\n",
    "    stats_df = stats_df[[\"question\", \"mean\", \"std\", \"min\", \"max\", \"25%\", \"50%\", \"75%\"]]\n",
    "    stats_df.index = stats_df.index.map(lambda x: x + index_postfix)\n",
    "    return stats_df"
   ]
  },
  {
   "cell_type": "code",
   "execution_count": 5,
   "metadata": {},
   "outputs": [],
   "source": [
    "demographic_stats = get_states(demographic)"
   ]
  },
  {
   "cell_type": "code",
   "execution_count": 6,
   "metadata": {},
   "outputs": [],
   "source": [
    "demographic_stats.to_csv(\"demographic_stats.csv\")"
   ]
  },
  {
   "cell_type": "code",
   "execution_count": 7,
   "metadata": {},
   "outputs": [
    {
     "data": {
      "text/html": [
       "<div>\n",
       "<style scoped>\n",
       "    .dataframe tbody tr th:only-of-type {\n",
       "        vertical-align: middle;\n",
       "    }\n",
       "\n",
       "    .dataframe tbody tr th {\n",
       "        vertical-align: top;\n",
       "    }\n",
       "\n",
       "    .dataframe thead th {\n",
       "        text-align: right;\n",
       "    }\n",
       "</style>\n",
       "<table border=\"1\" class=\"dataframe\">\n",
       "  <thead>\n",
       "    <tr style=\"text-align: right;\">\n",
       "      <th></th>\n",
       "      <th>question</th>\n",
       "      <th>mean</th>\n",
       "      <th>std</th>\n",
       "      <th>min</th>\n",
       "      <th>max</th>\n",
       "      <th>25%</th>\n",
       "      <th>50%</th>\n",
       "      <th>75%</th>\n",
       "    </tr>\n",
       "  </thead>\n",
       "  <tbody>\n",
       "    <tr>\n",
       "      <th>Age</th>\n",
       "      <td>What is your age?</td>\n",
       "      <td>22.000000</td>\n",
       "      <td>2.628515</td>\n",
       "      <td>19.0</td>\n",
       "      <td>28.0</td>\n",
       "      <td>20.0</td>\n",
       "      <td>21.5</td>\n",
       "      <td>22.25</td>\n",
       "    </tr>\n",
       "    <tr>\n",
       "      <th>Data Labeling System</th>\n",
       "      <td>How familiar are you with data labeling / anno...</td>\n",
       "      <td>1.916667</td>\n",
       "      <td>0.900337</td>\n",
       "      <td>1.0</td>\n",
       "      <td>3.0</td>\n",
       "      <td>1.0</td>\n",
       "      <td>2.0</td>\n",
       "      <td>3.00</td>\n",
       "    </tr>\n",
       "    <tr>\n",
       "      <th>Robotics</th>\n",
       "      <td>How familiar are you with robotics?</td>\n",
       "      <td>1.916667</td>\n",
       "      <td>0.900337</td>\n",
       "      <td>1.0</td>\n",
       "      <td>4.0</td>\n",
       "      <td>1.0</td>\n",
       "      <td>2.0</td>\n",
       "      <td>2.00</td>\n",
       "    </tr>\n",
       "  </tbody>\n",
       "</table>\n",
       "</div>"
      ],
      "text/plain": [
       "                                                               question  \\\n",
       "Age                                                   What is your age?   \n",
       "Data Labeling System  How familiar are you with data labeling / anno...   \n",
       "Robotics                            How familiar are you with robotics?   \n",
       "\n",
       "                           mean       std   min   max   25%   50%    75%  \n",
       "Age                   22.000000  2.628515  19.0  28.0  20.0  21.5  22.25  \n",
       "Data Labeling System   1.916667  0.900337   1.0   3.0   1.0   2.0   3.00  \n",
       "Robotics               1.916667  0.900337   1.0   4.0   1.0   2.0   2.00  "
      ]
     },
     "execution_count": 7,
     "metadata": {},
     "output_type": "execute_result"
    }
   ],
   "source": [
    "demographic_stats"
   ]
  },
  {
   "cell_type": "code",
   "execution_count": null,
   "metadata": {},
   "outputs": [],
   "source": []
  }
 ],
 "metadata": {
  "kernelspec": {
   "display_name": "robosuite",
   "language": "python",
   "name": "python3"
  },
  "language_info": {
   "codemirror_mode": {
    "name": "ipython",
    "version": 3
   },
   "file_extension": ".py",
   "mimetype": "text/x-python",
   "name": "python",
   "nbconvert_exporter": "python",
   "pygments_lexer": "ipython3",
   "version": "3.8.17"
  },
  "orig_nbformat": 4
 },
 "nbformat": 4,
 "nbformat_minor": 2
}
