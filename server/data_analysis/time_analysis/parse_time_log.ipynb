{
 "cells": [
  {
   "cell_type": "code",
   "execution_count": 7,
   "metadata": {},
   "outputs": [],
   "source": [
    "import numpy as np\n",
    "import pandas as pd\n",
    "from datetime import datetime\n",
    "from pytimeparse2 import parse, disable_dateutil\n",
    "disable_dateutil()"
   ]
  },
  {
   "cell_type": "code",
   "execution_count": 8,
   "metadata": {},
   "outputs": [],
   "source": [
    "attention_check_index = [\n",
    "    '15', '26', '37', '48', '59', '70', '81', '92', '103', '114'\n",
    "]"
   ]
  },
  {
   "cell_type": "code",
   "execution_count": 9,
   "metadata": {},
   "outputs": [],
   "source": [
    "U01_time = pd.DataFrame(columns=[\"start_time\", \"end_time\"])\n",
    "U01_time[[\"start_time\", \"end_time\"]] = pd.read_csv('time/log_time/U01.csv').T\n",
    "\n",
    "study_start_time = datetime.strptime(\"2023-08-27 10:01:27\", \"%Y-%m-%d %H:%M:%S\")\n",
    "U01_time[\"start_time\"] = U01_time[\"start_time\"].apply(lambda x: study_start_time + parse(x.strip().replace(\" \", \":\"), as_timedelta=True))\n",
    "U01_time[\"end_time\"] = U01_time[\"end_time\"].apply(lambda x: study_start_time + parse(x.strip().replace(\" \", \":\"), as_timedelta=True))\n",
    "U01_time[\"duration_in_seconds\"] = U01_time[\"end_time\"] - U01_time[\"start_time\"]\n",
    "U01_time[\"duration_in_seconds\"] = U01_time[\"duration_in_seconds\"].apply(lambda x: x.total_seconds())\n",
    "U01_time.drop(index=attention_check_index, inplace=True)\n",
    "U01_time.reset_index(drop=True, inplace=True)\n",
    "\n",
    "U01_time.to_csv(\"time/log_time/U01_time.csv\", index=False)\n",
    "\n",
    "with open(\"log/U01.log\", \"w\") as f:\n",
    "    f.write(str(len(U01_time)))\n",
    "    f.write(\"\\n\")\n",
    "    f.write(\"0\")\n",
    "    f.write(\"\\n\")"
   ]
  },
  {
   "cell_type": "code",
   "execution_count": 10,
   "metadata": {},
   "outputs": [],
   "source": [
    "def read_log(path):\n",
    "    with open(path, 'r') as f:\n",
    "        lines = f.readlines()\n",
    "    return list(map(lambda x: int(x.strip()), lines[-2:]))"
   ]
  },
  {
   "cell_type": "code",
   "execution_count": 11,
   "metadata": {},
   "outputs": [],
   "source": [
    "no_pref_df = pd.DataFrame(columns=['uid', 'num_no_pref', 'total_num'])\n",
    "for i in range(1, 43):\n",
    "    uid = f\"U{i:02d}\"\n",
    "    path = f\"./log/{uid}.log\"\n",
    "    total, num_no_pref = read_log(path)\n",
    "    no_pref_df = pd.concat(\n",
    "        [no_pref_df, pd.DataFrame([[uid, num_no_pref, total]], columns=['uid', 'num_no_pref', 'total_num'])],\n",
    "        axis=0,\n",
    "        ignore_index=True\n",
    "    )"
   ]
  },
  {
   "cell_type": "code",
   "execution_count": 12,
   "metadata": {},
   "outputs": [],
   "source": [
    "no_pref_df[[\"uid\", \"num_no_pref\"]].to_csv(\"time/num_no_pref.csv\", index=False)"
   ]
  },
  {
   "cell_type": "code",
   "execution_count": null,
   "metadata": {},
   "outputs": [],
   "source": []
  }
 ],
 "metadata": {
  "kernelspec": {
   "display_name": "robosuite",
   "language": "python",
   "name": "python3"
  },
  "language_info": {
   "codemirror_mode": {
    "name": "ipython",
    "version": 3
   },
   "file_extension": ".py",
   "mimetype": "text/x-python",
   "name": "python",
   "nbconvert_exporter": "python",
   "pygments_lexer": "ipython3",
   "version": "3.8.17"
  },
  "orig_nbformat": 4
 },
 "nbformat": 4,
 "nbformat_minor": 2
}
