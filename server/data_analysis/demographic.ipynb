{
 "cells": [
  {
   "cell_type": "code",
   "execution_count": 22,
   "metadata": {},
   "outputs": [],
   "source": [
    "import numpy as np\n",
    "import pandas as pd"
   ]
  },
  {
   "cell_type": "code",
   "execution_count": 23,
   "metadata": {},
   "outputs": [],
   "source": [
    "demographic = pd.read_csv(\"questionnaire/demographic_origin.csv\")\n",
    "demographic_questions = demographic.loc[0, :]\n",
    "demographic_questions.to_json(\"questionnaire/demographic_questions.json\", indent=4)\n",
    "demographic = demographic.drop([0, 1]).sort_values(by=[\"UID\"]).reset_index(drop=True)\n",
    "\n",
    "demographic[\"Group\"] = demographic[\"UID\"].apply(lambda x: 2 - int(x[-2:]) % 2)\n",
    "demographic[\"Age\"] = demographic[\"Age\"].astype(int)\n",
    "gender_map = {\n",
    "    1: \"Male\",\n",
    "    2: \"Female\",\n",
    "    3: \"Non-binary / other\",\n",
    "}\n",
    "demographic[\"Gender\"] = demographic[\"Gender\"].astype(int).apply(gender_map.get)\n",
    "demographic[\"Data Labeling System\"] = demographic[\"Data Labeling System\"].astype(int)\n",
    "demographic[\"Robotics\"] = demographic[\"Robotics\"].astype(int)\n",
    "demographic = demographic[\n",
    "    [\n",
    "        \"Group\",\n",
    "        \"UID\",\n",
    "        \"Age\",\n",
    "        \"Gender\",\n",
    "        \"Data Labeling System\",\n",
    "        \"Robotics\"\n",
    "    ]\n",
    "]\n",
    "demographic.to_csv(\"questionnaire/demographic.csv\", index=False)"
   ]
  },
  {
   "cell_type": "code",
   "execution_count": 24,
   "metadata": {},
   "outputs": [],
   "source": [
    "demographic_group = demographic.groupby(\"Group\")\n",
    "group1 = demographic_group.get_group(1)\n",
    "group2 = demographic_group.get_group(2)"
   ]
  },
  {
   "cell_type": "code",
   "execution_count": 25,
   "metadata": {},
   "outputs": [
    {
     "data": {
      "text/plain": [
       "(array(['Female', 'Male', 'Non-binary / other'], dtype=object),\n",
       " array([22, 18,  2]))"
      ]
     },
     "execution_count": 25,
     "metadata": {},
     "output_type": "execute_result"
    }
   ],
   "source": [
    "np.unique(demographic[\"Gender\"].values, return_counts=True)"
   ]
  },
  {
   "cell_type": "code",
   "execution_count": 26,
   "metadata": {},
   "outputs": [
    {
     "data": {
      "text/plain": [
       "((array(['Female', 'Male'], dtype=object), array([11, 10])),\n",
       " (array(['Female', 'Male', 'Non-binary / other'], dtype=object),\n",
       "  array([11,  8,  2])))"
      ]
     },
     "execution_count": 26,
     "metadata": {},
     "output_type": "execute_result"
    }
   ],
   "source": [
    "np.unique(group1[\"Gender\"].values, return_counts=True), np.unique(group2[\"Gender\"].values, return_counts=True)"
   ]
  },
  {
   "cell_type": "code",
   "execution_count": 27,
   "metadata": {},
   "outputs": [],
   "source": [
    "def get_states(df, index_postfix=\"\"):\n",
    "    stats_df = df.describe().T\n",
    "    stats_df[\"question\"] = stats_df.index.map(lambda x: demographic_questions.get(x, x))\n",
    "    stats_df = stats_df[[\"question\", \"mean\", \"std\", \"min\", \"max\", \"25%\", \"50%\", \"75%\"]]\n",
    "    stats_df.index = stats_df.index.map(lambda x: x + index_postfix)\n",
    "    return stats_df"
   ]
  },
  {
   "cell_type": "code",
   "execution_count": 28,
   "metadata": {},
   "outputs": [
    {
     "data": {
      "text/html": [
       "<div>\n",
       "<style scoped>\n",
       "    .dataframe tbody tr th:only-of-type {\n",
       "        vertical-align: middle;\n",
       "    }\n",
       "\n",
       "    .dataframe tbody tr th {\n",
       "        vertical-align: top;\n",
       "    }\n",
       "\n",
       "    .dataframe thead th {\n",
       "        text-align: right;\n",
       "    }\n",
       "</style>\n",
       "<table border=\"1\" class=\"dataframe\">\n",
       "  <thead>\n",
       "    <tr style=\"text-align: right;\">\n",
       "      <th></th>\n",
       "      <th>question</th>\n",
       "      <th>mean</th>\n",
       "      <th>std</th>\n",
       "      <th>min</th>\n",
       "      <th>max</th>\n",
       "      <th>25%</th>\n",
       "      <th>50%</th>\n",
       "      <th>75%</th>\n",
       "    </tr>\n",
       "  </thead>\n",
       "  <tbody>\n",
       "    <tr>\n",
       "      <th>Group</th>\n",
       "      <td>Group</td>\n",
       "      <td>1.500000</td>\n",
       "      <td>0.506061</td>\n",
       "      <td>1.0</td>\n",
       "      <td>2.0</td>\n",
       "      <td>1.0</td>\n",
       "      <td>1.5</td>\n",
       "      <td>2.00</td>\n",
       "    </tr>\n",
       "    <tr>\n",
       "      <th>Age</th>\n",
       "      <td>What is your age?</td>\n",
       "      <td>23.380952</td>\n",
       "      <td>3.169615</td>\n",
       "      <td>19.0</td>\n",
       "      <td>40.0</td>\n",
       "      <td>22.0</td>\n",
       "      <td>23.0</td>\n",
       "      <td>24.00</td>\n",
       "    </tr>\n",
       "    <tr>\n",
       "      <th>Data Labeling System</th>\n",
       "      <td>How familiar are you with data labeling / anno...</td>\n",
       "      <td>2.190476</td>\n",
       "      <td>0.862161</td>\n",
       "      <td>1.0</td>\n",
       "      <td>4.0</td>\n",
       "      <td>2.0</td>\n",
       "      <td>2.0</td>\n",
       "      <td>3.00</td>\n",
       "    </tr>\n",
       "    <tr>\n",
       "      <th>Robotics</th>\n",
       "      <td>How familiar are you with robotics?</td>\n",
       "      <td>2.000000</td>\n",
       "      <td>0.796333</td>\n",
       "      <td>1.0</td>\n",
       "      <td>4.0</td>\n",
       "      <td>1.0</td>\n",
       "      <td>2.0</td>\n",
       "      <td>2.75</td>\n",
       "    </tr>\n",
       "    <tr>\n",
       "      <th>Group_group1</th>\n",
       "      <td>Group</td>\n",
       "      <td>1.000000</td>\n",
       "      <td>0.000000</td>\n",
       "      <td>1.0</td>\n",
       "      <td>1.0</td>\n",
       "      <td>1.0</td>\n",
       "      <td>1.0</td>\n",
       "      <td>1.00</td>\n",
       "    </tr>\n",
       "    <tr>\n",
       "      <th>Age_group1</th>\n",
       "      <td>What is your age?</td>\n",
       "      <td>23.714286</td>\n",
       "      <td>4.267820</td>\n",
       "      <td>19.0</td>\n",
       "      <td>40.0</td>\n",
       "      <td>22.0</td>\n",
       "      <td>23.0</td>\n",
       "      <td>23.00</td>\n",
       "    </tr>\n",
       "    <tr>\n",
       "      <th>Data Labeling System_group1</th>\n",
       "      <td>How familiar are you with data labeling / anno...</td>\n",
       "      <td>2.380952</td>\n",
       "      <td>0.920662</td>\n",
       "      <td>1.0</td>\n",
       "      <td>4.0</td>\n",
       "      <td>2.0</td>\n",
       "      <td>2.0</td>\n",
       "      <td>3.00</td>\n",
       "    </tr>\n",
       "    <tr>\n",
       "      <th>Robotics_group1</th>\n",
       "      <td>How familiar are you with robotics?</td>\n",
       "      <td>2.238095</td>\n",
       "      <td>0.889087</td>\n",
       "      <td>1.0</td>\n",
       "      <td>4.0</td>\n",
       "      <td>2.0</td>\n",
       "      <td>2.0</td>\n",
       "      <td>3.00</td>\n",
       "    </tr>\n",
       "    <tr>\n",
       "      <th>Group_group2</th>\n",
       "      <td>Group</td>\n",
       "      <td>2.000000</td>\n",
       "      <td>0.000000</td>\n",
       "      <td>2.0</td>\n",
       "      <td>2.0</td>\n",
       "      <td>2.0</td>\n",
       "      <td>2.0</td>\n",
       "      <td>2.00</td>\n",
       "    </tr>\n",
       "    <tr>\n",
       "      <th>Age_group2</th>\n",
       "      <td>What is your age?</td>\n",
       "      <td>23.047619</td>\n",
       "      <td>1.465476</td>\n",
       "      <td>19.0</td>\n",
       "      <td>25.0</td>\n",
       "      <td>23.0</td>\n",
       "      <td>23.0</td>\n",
       "      <td>24.00</td>\n",
       "    </tr>\n",
       "    <tr>\n",
       "      <th>Data Labeling System_group2</th>\n",
       "      <td>How familiar are you with data labeling / anno...</td>\n",
       "      <td>2.000000</td>\n",
       "      <td>0.774597</td>\n",
       "      <td>1.0</td>\n",
       "      <td>3.0</td>\n",
       "      <td>1.0</td>\n",
       "      <td>2.0</td>\n",
       "      <td>3.00</td>\n",
       "    </tr>\n",
       "    <tr>\n",
       "      <th>Robotics_group2</th>\n",
       "      <td>How familiar are you with robotics?</td>\n",
       "      <td>1.761905</td>\n",
       "      <td>0.624881</td>\n",
       "      <td>1.0</td>\n",
       "      <td>3.0</td>\n",
       "      <td>1.0</td>\n",
       "      <td>2.0</td>\n",
       "      <td>2.00</td>\n",
       "    </tr>\n",
       "  </tbody>\n",
       "</table>\n",
       "</div>"
      ],
      "text/plain": [
       "                                                                      question  \\\n",
       "Group                                                                    Group   \n",
       "Age                                                          What is your age?   \n",
       "Data Labeling System         How familiar are you with data labeling / anno...   \n",
       "Robotics                                   How familiar are you with robotics?   \n",
       "Group_group1                                                             Group   \n",
       "Age_group1                                                   What is your age?   \n",
       "Data Labeling System_group1  How familiar are you with data labeling / anno...   \n",
       "Robotics_group1                            How familiar are you with robotics?   \n",
       "Group_group2                                                             Group   \n",
       "Age_group2                                                   What is your age?   \n",
       "Data Labeling System_group2  How familiar are you with data labeling / anno...   \n",
       "Robotics_group2                            How familiar are you with robotics?   \n",
       "\n",
       "                                  mean       std   min   max   25%   50%  \\\n",
       "Group                         1.500000  0.506061   1.0   2.0   1.0   1.5   \n",
       "Age                          23.380952  3.169615  19.0  40.0  22.0  23.0   \n",
       "Data Labeling System          2.190476  0.862161   1.0   4.0   2.0   2.0   \n",
       "Robotics                      2.000000  0.796333   1.0   4.0   1.0   2.0   \n",
       "Group_group1                  1.000000  0.000000   1.0   1.0   1.0   1.0   \n",
       "Age_group1                   23.714286  4.267820  19.0  40.0  22.0  23.0   \n",
       "Data Labeling System_group1   2.380952  0.920662   1.0   4.0   2.0   2.0   \n",
       "Robotics_group1               2.238095  0.889087   1.0   4.0   2.0   2.0   \n",
       "Group_group2                  2.000000  0.000000   2.0   2.0   2.0   2.0   \n",
       "Age_group2                   23.047619  1.465476  19.0  25.0  23.0  23.0   \n",
       "Data Labeling System_group2   2.000000  0.774597   1.0   3.0   1.0   2.0   \n",
       "Robotics_group2               1.761905  0.624881   1.0   3.0   1.0   2.0   \n",
       "\n",
       "                               75%  \n",
       "Group                         2.00  \n",
       "Age                          24.00  \n",
       "Data Labeling System          3.00  \n",
       "Robotics                      2.75  \n",
       "Group_group1                  1.00  \n",
       "Age_group1                   23.00  \n",
       "Data Labeling System_group1   3.00  \n",
       "Robotics_group1               3.00  \n",
       "Group_group2                  2.00  \n",
       "Age_group2                   24.00  \n",
       "Data Labeling System_group2   3.00  \n",
       "Robotics_group2               2.00  "
      ]
     },
     "execution_count": 28,
     "metadata": {},
     "output_type": "execute_result"
    }
   ],
   "source": [
    "demographic_stats = pd.concat([\n",
    "    get_states(demographic),\n",
    "    get_states(group1, \"_group1\"),\n",
    "    get_states(group2, \"_group2\"),\n",
    "], axis=0)\n",
    "demographic_stats"
   ]
  },
  {
   "cell_type": "code",
   "execution_count": 29,
   "metadata": {},
   "outputs": [],
   "source": [
    "demographic_stats.to_csv(\"result/demographic_stats.csv\")"
   ]
  },
  {
   "cell_type": "code",
   "execution_count": 9,
   "metadata": {},
   "outputs": [],
   "source": [
    "baseline_df = pd.read_csv('questionnaire/baseline.csv')\n",
    "experiment_df = pd.read_csv('questionnaire/experiment.csv')"
   ]
  },
  {
   "cell_type": "code",
   "execution_count": 10,
   "metadata": {},
   "outputs": [],
   "source": [
    "from scipy import stats"
   ]
  },
  {
   "cell_type": "code",
   "execution_count": 11,
   "metadata": {},
   "outputs": [
    {
     "data": {
      "text/plain": [
       "SignificanceResult(statistic=-0.07562179734344433, pvalue=0.7445835548121034)"
      ]
     },
     "execution_count": 11,
     "metadata": {},
     "output_type": "execute_result"
    }
   ],
   "source": [
    "stats.spearmanr(baseline_df[\"C2\"], group1[\"Robotics\"])"
   ]
  },
  {
   "cell_type": "code",
   "execution_count": 12,
   "metadata": {},
   "outputs": [
    {
     "data": {
      "text/plain": [
       "SignificanceResult(statistic=0.12829588931598424, pvalue=0.5794255308653016)"
      ]
     },
     "execution_count": 12,
     "metadata": {},
     "output_type": "execute_result"
    }
   ],
   "source": [
    "stats.spearmanr(experiment_df[\"C2\"], group2[\"Robotics\"])"
   ]
  },
  {
   "cell_type": "code",
   "execution_count": 13,
   "metadata": {},
   "outputs": [
    {
     "data": {
      "text/plain": [
       "SignificanceResult(statistic=0.1930689986325814, pvalue=0.4017450656112169)"
      ]
     },
     "execution_count": 13,
     "metadata": {},
     "output_type": "execute_result"
    }
   ],
   "source": [
    "stats.spearmanr(baseline_df[\"C2.1\"], group1[\"Robotics\"])"
   ]
  },
  {
   "cell_type": "code",
   "execution_count": 14,
   "metadata": {},
   "outputs": [
    {
     "data": {
      "text/plain": [
       "SignificanceResult(statistic=0.15957163908879674, pvalue=0.48961584398096647)"
      ]
     },
     "execution_count": 14,
     "metadata": {},
     "output_type": "execute_result"
    }
   ],
   "source": [
    "stats.spearmanr(experiment_df[\"C2.1\"], group2[\"Robotics\"])"
   ]
  },
  {
   "cell_type": "code",
   "execution_count": 15,
   "metadata": {},
   "outputs": [
    {
     "data": {
      "text/plain": [
       "SignificanceResult(statistic=-0.12189806295549563, pvalue=0.5986299747530823)"
      ]
     },
     "execution_count": 15,
     "metadata": {},
     "output_type": "execute_result"
    }
   ],
   "source": [
    "stats.spearmanr(baseline_df[\"Consistency\"], group1[\"Robotics\"])"
   ]
  },
  {
   "cell_type": "code",
   "execution_count": 16,
   "metadata": {},
   "outputs": [
    {
     "data": {
      "text/plain": [
       "SignificanceResult(statistic=0.016906889344078208, pvalue=0.9420148006726367)"
      ]
     },
     "execution_count": 16,
     "metadata": {},
     "output_type": "execute_result"
    }
   ],
   "source": [
    "stats.spearmanr(experiment_df[\"Consistency\"], group2[\"Robotics\"])\n"
   ]
  },
  {
   "cell_type": "code",
   "execution_count": 17,
   "metadata": {},
   "outputs": [],
   "source": [
    "METRIC_COLUMNS = [\n",
    "    \"Consistency\",\n",
    "    \"Total Time\",\n",
    "    \"Overconfidence\",\n",
    "]\n",
    "\n",
    "LIKERT_COLUMNS = [\n",
    "    \"Cognitive Load\",\n",
    "    \"Confidence\",\n",
    "    \"C1\",\n",
    "    \"C1.1\",\n",
    "    \"C1.2\",\n",
    "    \"C1.3\",\n",
    "    \"C2\",\n",
    "    \"C2.1\",\n",
    "    \"C2.2\",\n",
    "    \"C2.3\",\n",
    "    \"C3.1\",\n",
    "    \"C3.2\",\n",
    "    \"C3.3\",\n",
    "    \"C3.4\",\n",
    "    \"C3.5\",\n",
    "]"
   ]
  },
  {
   "cell_type": "code",
   "execution_count": 18,
   "metadata": {},
   "outputs": [
    {
     "name": "stdout",
     "output_type": "stream",
     "text": [
      "Consistency\n",
      "SignificanceResult(statistic=-0.12189806295549563, pvalue=0.5986299747530823)\n",
      "SignificanceResult(statistic=0.016906889344078208, pvalue=0.9420148006726367)\n",
      "\n",
      "Total Time\n",
      "SignificanceResult(statistic=-0.34572487862403645, pvalue=0.12476331133080928)\n",
      "SignificanceResult(statistic=-0.06776109129744837, pvalue=0.7704077629123255)\n",
      "\n",
      "Overconfidence\n",
      "SignificanceResult(statistic=0.017600946798055413, pvalue=0.9396385007707817)\n",
      "SignificanceResult(statistic=0.1076595405114744, pvalue=0.6422879693932704)\n",
      "\n",
      "Cognitive Load\n",
      "SignificanceResult(statistic=-0.3443085637865754, pvalue=0.12641872956405525)\n",
      "SignificanceResult(statistic=-0.05965697166712889, pvalue=0.7972784130994004)\n",
      "\n",
      "Confidence\n",
      "SignificanceResult(statistic=-0.016095754828765806, pvalue=0.9447925462255817)\n",
      "SignificanceResult(statistic=0.11897938498391272, pvalue=0.6074780741243786)\n",
      "\n",
      "C1\n",
      "SignificanceResult(statistic=-0.008575323352732294, pvalue=0.9705717040632266)\n",
      "SignificanceResult(statistic=0.2387429156564676, pvalue=0.2973036050531158)\n",
      "\n",
      "C1.1\n",
      "SignificanceResult(statistic=0.2941310424828371, pvalue=0.19559737905981497)\n",
      "SignificanceResult(statistic=0.09597148699373932, pvalue=0.6790030229947426)\n",
      "\n",
      "C1.2\n",
      "SignificanceResult(statistic=0.0, pvalue=1.0)\n",
      "SignificanceResult(statistic=0.40352110904366006, pvalue=0.06968321043501241)\n",
      "\n",
      "C1.3\n",
      "SignificanceResult(statistic=-0.012945352904030363, pvalue=0.9555867245335187)\n",
      "SignificanceResult(statistic=0.2890261095064737, pvalue=0.20383126786544672)\n",
      "\n",
      "C2\n",
      "SignificanceResult(statistic=-0.07562179734344433, pvalue=0.7445835548121034)\n",
      "SignificanceResult(statistic=0.12829588931598424, pvalue=0.5794255308653016)\n",
      "\n",
      "C2.1\n",
      "SignificanceResult(statistic=0.1930689986325814, pvalue=0.4017450656112169)\n",
      "SignificanceResult(statistic=0.15957163908879674, pvalue=0.48961584398096647)\n",
      "\n",
      "C2.2\n",
      "SignificanceResult(statistic=-0.02089326981566103, pvalue=0.9283733648397868)\n",
      "SignificanceResult(statistic=0.04240146737318504, pvalue=0.8551971885160422)\n",
      "\n",
      "C2.3\n",
      "SignificanceResult(statistic=0.35206898353868166, pvalue=0.1175383923191062)\n",
      "SignificanceResult(statistic=-0.0060496698761022425, pvalue=0.9792369220885899)\n",
      "\n",
      "C3.1\n",
      "SignificanceResult(statistic=0.0875013495558261, pvalue=0.7060599557490028)\n",
      "SignificanceResult(statistic=0.19654209567648503, pvalue=0.3931647458605654)\n",
      "\n",
      "C3.2\n",
      "SignificanceResult(statistic=0.13411635771511457, pvalue=0.5621888974005096)\n",
      "SignificanceResult(statistic=-0.13682671073253166, pvalue=0.5542410145276617)\n",
      "\n",
      "C3.3\n",
      "SignificanceResult(statistic=-0.31602898704418547, pvalue=0.16282880023728988)\n",
      "SignificanceResult(statistic=-0.13744040307891053, pvalue=0.5524484545982835)\n",
      "\n",
      "C3.4\n",
      "SignificanceResult(statistic=-0.2041735785772388, pvalue=0.37467369391871297)\n",
      "SignificanceResult(statistic=-0.3151207677607756, pvalue=0.16410685323409094)\n",
      "\n",
      "C3.5\n",
      "SignificanceResult(statistic=0.050329472396663605, pvalue=0.8284790694796325)\n",
      "SignificanceResult(statistic=-0.18982733064878568, pvalue=0.40984586450028604)\n",
      "\n"
     ]
    }
   ],
   "source": [
    "for metric in METRIC_COLUMNS + LIKERT_COLUMNS:\n",
    "    print(metric)\n",
    "    print(stats.spearmanr(baseline_df[metric], group1[\"Robotics\"]))\n",
    "    print(stats.spearmanr(experiment_df[metric], group2[\"Robotics\"]))\n",
    "    print()"
   ]
  },
  {
   "cell_type": "code",
   "execution_count": null,
   "metadata": {},
   "outputs": [],
   "source": []
  }
 ],
 "metadata": {
  "kernelspec": {
   "display_name": "robosuite",
   "language": "python",
   "name": "python3"
  },
  "language_info": {
   "codemirror_mode": {
    "name": "ipython",
    "version": 3
   },
   "file_extension": ".py",
   "mimetype": "text/x-python",
   "name": "python",
   "nbconvert_exporter": "python",
   "pygments_lexer": "ipython3",
   "version": "3.8.17"
  },
  "orig_nbformat": 4
 },
 "nbformat": 4,
 "nbformat_minor": 2
}
